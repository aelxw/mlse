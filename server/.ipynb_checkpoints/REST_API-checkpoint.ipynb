{
 "cells": [
  {
   "cell_type": "code",
   "execution_count": 1,
   "metadata": {},
   "outputs": [],
   "source": [
    "from flask import Flask, json, jsonify\n",
    "from flask_cors import CORS\n",
    "from gevent.pywsgi import WSGIServer\n",
    "\n",
    "import numpy as np\n",
    "import pandas as pd"
   ]
  },
  {
   "cell_type": "code",
   "execution_count": 2,
   "metadata": {},
   "outputs": [],
   "source": [
    "app = Flask(__name__)\n",
    "CORS(app)\n",
    "http_server = WSGIServer(('192.168.1.6', 2000), app)\n",
    "\n",
    "def gale_shapely(E):\n",
    "    # n employees, m tickets\n",
    "    T = np.random.rand(E.shape[0], E.shape[1])\n",
    "    M = np.zeros(T.shape)\n",
    "    while M.sum() < np.min(E.shape):\n",
    "        un_i = np.linspace(0, M.shape[0]-1, M.shape[0])[M.sum(axis=1) == 0]\n",
    "        if un_i.size > 0:\n",
    "            x = int(un_i[0])\n",
    "            y = E[x, :].argmin()\n",
    "            E[x,y] = np.max(E.shape)+1\n",
    "            if M[:, y].sum() == 0:\n",
    "                M[x, y] = 1\n",
    "            elif T[x, y] < T[M[:, y].argmax(), y]:\n",
    "                M[:, y] = 0\n",
    "                M[x, y] = 1\n",
    "    return M\n",
    "\n",
    "@app.route(\"/tickets\")\n",
    "def getTickets():\n",
    "    tickets = [\n",
    "        {\"name\": \"Leafs\"},\n",
    "        {\"name\": \"Raptors\"},\n",
    "        {\"name\": \"TFC\"},\n",
    "        {\"name\": \"argos\"}\n",
    "    ]\n",
    "    return jsonify(tickets)\n",
    "\n",
    "@app.route(\"/login\")\n",
    "def verifyLogin():\n",
    "    return json.dumps(True)\n",
    "\n",
    "@app.route(\"/shutdown\")\n",
    "def shutdown():\n",
    "    http_server.stop()\n",
    "    return \"Server shutting down...\""
   ]
  },
  {
   "cell_type": "code",
   "execution_count": 3,
   "metadata": {},
   "outputs": [
    {
     "name": "stderr",
     "output_type": "stream",
     "text": [
      "192.168.1.6 - - [2018-09-17 23:46:56] \"GET /login HTTP/1.1\" 200 146 0.005996\n",
      "192.168.1.6 - - [2018-09-17 23:47:02] \"GET /login HTTP/1.1\" 200 180 0.005001\n",
      "Traceback (most recent call last):\n",
      "  File \"c:\\users\\alexander\\appdata\\local\\programs\\python\\python36-32\\lib\\site-packages\\gevent\\_ffi\\loop.py\", line 230, in python_check_callback\n",
      "    def python_check_callback(self, watcher_ptr): # pylint:disable=unused-argument\n",
      "KeyboardInterrupt\n",
      "2018-09-18T03:47:37Z\n"
     ]
    },
    {
     "ename": "KeyboardInterrupt",
     "evalue": "",
     "output_type": "error",
     "traceback": [
      "\u001b[1;31m---------------------------------------------------------------------------\u001b[0m",
      "\u001b[1;31mKeyboardInterrupt\u001b[0m                         Traceback (most recent call last)",
      "\u001b[1;32m<ipython-input-3-d4e982535839>\u001b[0m in \u001b[0;36m<module>\u001b[1;34m()\u001b[0m\n\u001b[1;32m----> 1\u001b[1;33m \u001b[0mhttp_server\u001b[0m\u001b[1;33m.\u001b[0m\u001b[0mserve_forever\u001b[0m\u001b[1;33m(\u001b[0m\u001b[1;33m)\u001b[0m\u001b[1;33m\u001b[0m\u001b[0m\n\u001b[0m",
      "\u001b[1;32mc:\\users\\alexander\\appdata\\local\\programs\\python\\python36-32\\lib\\site-packages\\gevent\\baseserver.py\u001b[0m in \u001b[0;36mserve_forever\u001b[1;34m(self, stop_timeout)\u001b[0m\n\u001b[0;32m    362\u001b[0m             \u001b[0mself\u001b[0m\u001b[1;33m.\u001b[0m\u001b[0mstart\u001b[0m\u001b[1;33m(\u001b[0m\u001b[1;33m)\u001b[0m\u001b[1;33m\u001b[0m\u001b[0m\n\u001b[0;32m    363\u001b[0m         \u001b[1;32mtry\u001b[0m\u001b[1;33m:\u001b[0m\u001b[1;33m\u001b[0m\u001b[0m\n\u001b[1;32m--> 364\u001b[1;33m             \u001b[0mself\u001b[0m\u001b[1;33m.\u001b[0m\u001b[0m_stop_event\u001b[0m\u001b[1;33m.\u001b[0m\u001b[0mwait\u001b[0m\u001b[1;33m(\u001b[0m\u001b[1;33m)\u001b[0m\u001b[1;33m\u001b[0m\u001b[0m\n\u001b[0m\u001b[0;32m    365\u001b[0m         \u001b[1;32mfinally\u001b[0m\u001b[1;33m:\u001b[0m\u001b[1;33m\u001b[0m\u001b[0m\n\u001b[0;32m    366\u001b[0m             \u001b[0mGreenlet\u001b[0m\u001b[1;33m.\u001b[0m\u001b[0mspawn\u001b[0m\u001b[1;33m(\u001b[0m\u001b[0mself\u001b[0m\u001b[1;33m.\u001b[0m\u001b[0mstop\u001b[0m\u001b[1;33m,\u001b[0m \u001b[0mtimeout\u001b[0m\u001b[1;33m=\u001b[0m\u001b[0mstop_timeout\u001b[0m\u001b[1;33m)\u001b[0m\u001b[1;33m.\u001b[0m\u001b[0mjoin\u001b[0m\u001b[1;33m(\u001b[0m\u001b[1;33m)\u001b[0m\u001b[1;33m\u001b[0m\u001b[0m\n",
      "\u001b[1;32mc:\\users\\alexander\\appdata\\local\\programs\\python\\python36-32\\lib\\site-packages\\gevent\\_event.cp36-win32.pyd\u001b[0m in \u001b[0;36mgevent._event.Event.wait\u001b[1;34m()\u001b[0m\n",
      "\u001b[1;32mc:\\users\\alexander\\appdata\\local\\programs\\python\\python36-32\\lib\\site-packages\\gevent\\_event.cp36-win32.pyd\u001b[0m in \u001b[0;36mgevent._event._AbstractLinkable._wait\u001b[1;34m()\u001b[0m\n",
      "\u001b[1;32mc:\\users\\alexander\\appdata\\local\\programs\\python\\python36-32\\lib\\site-packages\\gevent\\_event.cp36-win32.pyd\u001b[0m in \u001b[0;36mgevent._event._AbstractLinkable._wait_core\u001b[1;34m()\u001b[0m\n",
      "\u001b[1;32mc:\\users\\alexander\\appdata\\local\\programs\\python\\python36-32\\lib\\site-packages\\gevent\\_event.cp36-win32.pyd\u001b[0m in \u001b[0;36mgevent._event._AbstractLinkable._wait_core\u001b[1;34m()\u001b[0m\n",
      "\u001b[1;32mc:\\users\\alexander\\appdata\\local\\programs\\python\\python36-32\\lib\\site-packages\\gevent\\__greenlet_primitives.cp36-win32.pyd\u001b[0m in \u001b[0;36mgevent.__greenlet_primitives.SwitchOutGreenletWithLoop.switch\u001b[1;34m()\u001b[0m\n",
      "\u001b[1;32mc:\\users\\alexander\\appdata\\local\\programs\\python\\python36-32\\lib\\site-packages\\gevent\\__greenlet_primitives.cp36-win32.pyd\u001b[0m in \u001b[0;36mgevent.__greenlet_primitives.SwitchOutGreenletWithLoop.switch\u001b[1;34m()\u001b[0m\n",
      "\u001b[1;32mc:\\users\\alexander\\appdata\\local\\programs\\python\\python36-32\\lib\\site-packages\\gevent\\__greenlet_primitives.cp36-win32.pyd\u001b[0m in \u001b[0;36mgevent.__greenlet_primitives.SwitchOutGreenletWithLoop.switch\u001b[1;34m()\u001b[0m\n",
      "\u001b[1;32msrc\\gevent\\__greenlet_primitives.pxd\u001b[0m in \u001b[0;36mgevent.__greenlet_primitives._greenlet_switch\u001b[1;34m()\u001b[0m\n",
      "\u001b[1;31mKeyboardInterrupt\u001b[0m: "
     ]
    }
   ],
   "source": [
    "http_server.serve_forever()"
   ]
  },
  {
   "cell_type": "code",
   "execution_count": null,
   "metadata": {},
   "outputs": [],
   "source": []
  },
  {
   "cell_type": "code",
   "execution_count": null,
   "metadata": {},
   "outputs": [],
   "source": []
  },
  {
   "cell_type": "code",
   "execution_count": null,
   "metadata": {},
   "outputs": [],
   "source": []
  },
  {
   "cell_type": "code",
   "execution_count": null,
   "metadata": {},
   "outputs": [],
   "source": []
  }
 ],
 "metadata": {
  "kernelspec": {
   "display_name": "Python 3",
   "language": "python",
   "name": "python3"
  },
  "language_info": {
   "codemirror_mode": {
    "name": "ipython",
    "version": 3
   },
   "file_extension": ".py",
   "mimetype": "text/x-python",
   "name": "python",
   "nbconvert_exporter": "python",
   "pygments_lexer": "ipython3",
   "version": "3.6.2"
  }
 },
 "nbformat": 4,
 "nbformat_minor": 2
}
