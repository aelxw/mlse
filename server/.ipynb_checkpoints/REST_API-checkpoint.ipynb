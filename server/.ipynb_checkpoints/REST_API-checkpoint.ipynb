{
 "cells": [
  {
   "cell_type": "code",
   "execution_count": null,
   "metadata": {},
   "outputs": [],
   "source": [
    "from flask import Flask, json, jsonify\n",
    "from flask_cors import CORS\n",
    "\n",
    "app = Flask(__name__)\n",
    "CORS(app)"
   ]
  },
  {
   "cell_type": "code",
   "execution_count": null,
   "metadata": {},
   "outputs": [],
   "source": [
    "@app.route(\"/tickets\")\n",
    "def getTickets():\n",
    "    tickets = [\n",
    "        {\"name\": \"Leafs\"},\n",
    "        {\"name\": \"Raptors\"},\n",
    "        {\"name\": \"TFC\"},\n",
    "        {\"name\": \"argos\"}\n",
    "    ]\n",
    "    return jsonify(tickets)"
   ]
  },
  {
   "cell_type": "code",
   "execution_count": null,
   "metadata": {},
   "outputs": [],
   "source": [
    "app.run(port=2000)"
   ]
  },
  {
   "cell_type": "code",
   "execution_count": null,
   "metadata": {},
   "outputs": [],
   "source": []
  },
  {
   "cell_type": "code",
   "execution_count": null,
   "metadata": {},
   "outputs": [],
   "source": []
  },
  {
   "cell_type": "code",
   "execution_count": null,
   "metadata": {},
   "outputs": [],
   "source": [
    "import numpy as np\n",
    "import pandas as pd"
   ]
  },
  {
   "cell_type": "code",
   "execution_count": 222,
   "metadata": {},
   "outputs": [],
   "source": [
    "def gale_shapely(E):\n",
    "    # n employees, m tickets\n",
    "    T = np.random.rand(E.shape[0], E.shape[1])\n",
    "    M = np.zeros(T.shape)\n",
    "    while M.sum() < np.min(E.shape):\n",
    "        un_i = np.linspace(0, M.shape[0]-1, M.shape[0])[M.sum(axis=1) == 0]\n",
    "        if un_i.size > 0:\n",
    "            x = int(un_i[0])\n",
    "            y = E[x, :].argmin()\n",
    "            E[x,y] = np.max(E.shape)+1\n",
    "            if M[:, y].sum() == 0:\n",
    "                M[x, y] = 1\n",
    "            elif T[x, y] < T[M[:, y].argmax(), y]:\n",
    "                M[:, y] = 0\n",
    "                M[x, y] = 1\n",
    "    return M"
   ]
  }
 ],
 "metadata": {
  "kernelspec": {
   "display_name": "Python 3",
   "language": "python",
   "name": "python3"
  },
  "language_info": {
   "codemirror_mode": {
    "name": "ipython",
    "version": 3
   },
   "file_extension": ".py",
   "mimetype": "text/x-python",
   "name": "python",
   "nbconvert_exporter": "python",
   "pygments_lexer": "ipython3",
   "version": "3.6.2"
  }
 },
 "nbformat": 4,
 "nbformat_minor": 2
}
