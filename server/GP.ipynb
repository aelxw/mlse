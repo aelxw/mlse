{
 "cells": [
  {
   "cell_type": "code",
   "execution_count": null,
   "metadata": {},
   "outputs": [],
   "source": [
    "import numpy as np\n",
    "from matplotlib import pyplot as plt\n",
    "from sklearn.gaussian_process.kernels import RBF\n",
    "from scipy import stats"
   ]
  },
  {
   "cell_type": "code",
   "execution_count": null,
   "metadata": {},
   "outputs": [],
   "source": [
    "def make_mu(n):\n",
    "    mu = 0.5\n",
    "    return mu*np.ones(shape=(n,1))\n",
    "\n",
    "def make_kernel(a, b=None):\n",
    "    std_dev = 0.15\n",
    "    var = std_dev**2\n",
    "    k = RBF()\n",
    "    if b is None:\n",
    "        return var*(k(a) + np.eye(a.shape[0])*1e-6)\n",
    "    else:\n",
    "        return var*k(a, b)"
   ]
  },
  {
   "cell_type": "code",
   "execution_count": null,
   "metadata": {},
   "outputs": [],
   "source": [
    "def conditional(x, x_given=None, y_given=None):\n",
    "    if x_given is None or y_given is None:\n",
    "        return (make_mu(x.shape[0]), make_kernel(x))\n",
    "    else:\n",
    "        s_new_given = make_kernel(x, x_given)\n",
    "        s_given = make_kernel(x_given)\n",
    "        s_new = make_kernel(x)\n",
    "        mu_given = make_mu(y_given.shape[0])\n",
    "        mu_new =  make_mu(x.shape[0])\n",
    "\n",
    "        mu = mu_new + s_new_given.dot(np.linalg.inv(s_given)).dot(y_given-mu_given)\n",
    "        sig = s_new - s_new_given.dot(np.linalg.inv(s_given)).dot(s_new_given.T)\n",
    "        return (mu.squeeze(), sig.squeeze())\n",
    "    "
   ]
  },
  {
   "cell_type": "code",
   "execution_count": null,
   "metadata": {},
   "outputs": [],
   "source": [
    "def plot_conditional(x, given=None, n_iters=10, n_priors=100, savefig=False):\n",
    "    \n",
    "    i = 0\n",
    "    \n",
    "    while i < n_iters:\n",
    "\n",
    "        if given is None:\n",
    "            given = []\n",
    "            mu_cond, sig_cond = conditional(x)\n",
    "            f_posterior = np.random.multivariate_normal(mu_cond.squeeze(), sig_cond, n_priors).T\n",
    "        else:\n",
    "            temp = np.array(given)\n",
    "            x_given = temp[:, 0].reshape(-1,1)\n",
    "            y_given = temp[:, 1].reshape(-1,1)\n",
    "            mu_cond, sig_cond = conditional(x, x_given=x_given, y_given=y_given)\n",
    "            f_posterior = np.random.multivariate_normal(mu_cond, sig_cond, n_priors).T\n",
    "\n",
    "        f, axs = plt.subplots(2, 1, figsize=(10,10))\n",
    "\n",
    "        axs[0].plot(x, f_posterior, \"lightblue\")\n",
    "        axs[0].plot(x, mu_cond, \"r--\", linewidth=2)\n",
    "\n",
    "        axs[0].set_title(\"GP\")\n",
    "        axs[0].get_xaxis().set_ticks([])\n",
    "        axs[0].set_xlabel(\"Weight vector\")\n",
    "        axs[0].set_ylabel(\"Utility\")\n",
    "        \n",
    "        if len(given) > 0:\n",
    "            delta = np.max(y_given) - mu_cond.mean()\n",
    "            sig = np.sqrt(sig_cond.diagonal())\n",
    "            z = delta / sig\n",
    "            ei = delta*stats.norm.cdf(z) + sig*stats.norm.pdf(z)\n",
    "            ei_max = ei.max()\n",
    "            x_new = x[np.argmax(ei), 0]\n",
    "            y_new = np.random.normal(loc=0.6, scale=0.15)\n",
    "        else:\n",
    "            delta = 0\n",
    "            sig = np.sqrt(sig_cond.diagonal())\n",
    "            z = delta / sig\n",
    "            ei = delta*stats.norm.cdf(z) + sig*stats.norm.pdf(z)\n",
    "            ei_max = ei.max()\n",
    "            x_new = 0\n",
    "            y_new = np.random.normal(loc=0.6, scale=0.15)\n",
    "        \n",
    "        given.append((x_new, y_new))\n",
    "\n",
    "        axs[1].plot(x, ei)\n",
    "        axs[1].plot(x_new, ei_max, \"ro\")\n",
    "        axs[1].set_title(\"Acquisition Function\")\n",
    "        axs[1].get_xaxis().set_ticks([])\n",
    "        axs[1].set_xlabel(\"Weight vector\")\n",
    "        axs[1].set_ylabel(\"Expected Improvement\")\n",
    "\n",
    "        plt.show()\n",
    "\n",
    "        if savefig: f.savefig(\"GP{}.png\".format(i+1))\n",
    "\n",
    "        i = i + 1"
   ]
  },
  {
   "cell_type": "code",
   "execution_count": null,
   "metadata": {},
   "outputs": [],
   "source": [
    "x = np.linspace(-5, 5, 1000).reshape(-1,1)\n",
    "plot_conditional(x)"
   ]
  },
  {
   "cell_type": "code",
   "execution_count": null,
   "metadata": {},
   "outputs": [],
   "source": []
  },
  {
   "cell_type": "code",
   "execution_count": null,
   "metadata": {},
   "outputs": [],
   "source": []
  },
  {
   "cell_type": "code",
   "execution_count": null,
   "metadata": {},
   "outputs": [],
   "source": []
  },
  {
   "cell_type": "code",
   "execution_count": null,
   "metadata": {},
   "outputs": [],
   "source": []
  },
  {
   "cell_type": "code",
   "execution_count": null,
   "metadata": {},
   "outputs": [],
   "source": []
  }
 ],
 "metadata": {
  "kernelspec": {
   "display_name": "Python 3",
   "language": "python",
   "name": "python3"
  },
  "language_info": {
   "codemirror_mode": {
    "name": "ipython",
    "version": 3
   },
   "file_extension": ".py",
   "mimetype": "text/x-python",
   "name": "python",
   "nbconvert_exporter": "python",
   "pygments_lexer": "ipython3",
   "version": "3.6.2"
  }
 },
 "nbformat": 4,
 "nbformat_minor": 2
}
