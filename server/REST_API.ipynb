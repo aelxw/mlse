{
 "cells": [
  {
   "cell_type": "code",
   "execution_count": 31,
   "metadata": {},
   "outputs": [],
   "source": [
    "from flask import Flask, json, request\n",
    "from flask_cors import CORS\n",
    "from gevent.pywsgi import WSGIServer\n",
    "\n",
    "import numpy as np\n",
    "import pandas as pd\n",
    "from bs4 import BeautifulSoup\n",
    "import requests"
   ]
  },
  {
   "cell_type": "code",
   "execution_count": 32,
   "metadata": {},
   "outputs": [],
   "source": [
    "def gale_shapely(E):\n",
    "    # n employees, m tickets\n",
    "    T = np.random.rand(E.shape[0], E.shape[1])\n",
    "    M = np.zeros(T.shape)\n",
    "    while M.sum() < np.min(E.shape):\n",
    "        un_i = np.linspace(0, M.shape[0]-1, M.shape[0])[M.sum(axis=1) == 0]\n",
    "        if un_i.size > 0:\n",
    "            x = int(un_i[0])\n",
    "            y = E[x, :].argmin()\n",
    "            E[x,y] = np.max(E.shape)+1\n",
    "            if M[:, y].sum() == 0:\n",
    "                M[x, y] = 1\n",
    "            elif T[x, y] < T[M[:, y].argmax(), y]:\n",
    "                M[:, y] = 0\n",
    "                M[x, y] = 1\n",
    "    return M\n",
    "\n",
    "def scrape_nhl_teams():\n",
    "    teams_url = \"http://www.sportslogos.net/teams/list_by_league/1/National_Hockey_League/NHL/logos/\"\n",
    "    res = requests.get(teams_url)\n",
    "    soup = BeautifulSoup(res.text, 'html.parser')\n",
    "    teams_li = soup.find(attrs={\"id\":\"team\"}).find(attrs={\"class\":\"logoWall\"}).findAll(\"li\")\n",
    "    teams = [{\"team\":team.find(\"a\").text.strip(), \"logo\":team.find(\"img\").attrs[\"src\"]} for team in teams_li]\n",
    "    return teams"
   ]
  },
  {
   "cell_type": "code",
   "execution_count": 33,
   "metadata": {},
   "outputs": [],
   "source": [
    "app = Flask(__name__)\n",
    "CORS(app)\n",
    "http_server = WSGIServer(('192.168.1.6', 2000), app)\n",
    "\n",
    "nhl_teams = scrape_nhl_teams()\n",
    "\n",
    "@app.route(\"/nhl-teams\")\n",
    "def getNHLTeams():\n",
    "    return json.dumps(nhl_teams)\n",
    "\n",
    "@app.route(\"/login\", methods=[\"POST\"])\n",
    "def authenticate():\n",
    "    req_data = request.json\n",
    "    if(req_data[\"email\"] == \"a\" and req_data[\"password\"] == \"b\"):\n",
    "        return json.dumps(True)\n",
    "    else:\n",
    "        return json.dumps(False)\n",
    "\n",
    "@app.route(\"/shutdown\")\n",
    "def shutdown():\n",
    "    http_server.stop()\n",
    "    return \"Server shutting down...\""
   ]
  },
  {
   "cell_type": "code",
   "execution_count": null,
   "metadata": {},
   "outputs": [
    {
     "name": "stderr",
     "output_type": "stream",
     "text": [
      "192.168.1.6 - - [2018-09-20 22:40:20] \"GET /nhl-teams HTTP/1.1\" 200 3612 0.003997\n",
      "192.168.1.6 - - [2018-09-20 22:41:05] \"GET /nhl-teams HTTP/1.1\" 200 3612 0.002999\n",
      "192.168.1.6 - - [2018-09-20 22:42:29] \"GET /nhl-teams HTTP/1.1\" 200 3612 0.001998\n"
     ]
    }
   ],
   "source": [
    "http_server.serve_forever()"
   ]
  },
  {
   "cell_type": "code",
   "execution_count": 6,
   "metadata": {},
   "outputs": [],
   "source": []
  },
  {
   "cell_type": "code",
   "execution_count": 4,
   "metadata": {},
   "outputs": [],
   "source": []
  }
 ],
 "metadata": {
  "kernelspec": {
   "display_name": "Python 3",
   "language": "python",
   "name": "python3"
  },
  "language_info": {
   "codemirror_mode": {
    "name": "ipython",
    "version": 3
   },
   "file_extension": ".py",
   "mimetype": "text/x-python",
   "name": "python",
   "nbconvert_exporter": "python",
   "pygments_lexer": "ipython3",
   "version": "3.6.2"
  }
 },
 "nbformat": 4,
 "nbformat_minor": 2
}
