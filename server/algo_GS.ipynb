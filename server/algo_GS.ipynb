{
 "cells": [
  {
   "cell_type": "code",
   "execution_count": 38,
   "metadata": {},
   "outputs": [],
   "source": [
    "import numpy as np\n",
    "from copy import deepcopy\n",
    "\n",
    "def gale_shapely(r_employees, r_tickets):\n",
    "    \n",
    "    r_e = deepcopy(r_employees)\n",
    "    r_t = deepcopy(r_tickets)\n",
    "    \n",
    "    m_employees = {}\n",
    "    for e in r_employees.keys():\n",
    "        m_employees[e] = None\n",
    "    \n",
    "    m_tickets = {}\n",
    "    for t in r_tickets.keys():\n",
    "        m_tickets[t] = []\n",
    "    \n",
    "    while None in m_employees.values():\n",
    "        proceed = False\n",
    "        for e, t in m_employees.items():\n",
    "            if (t == None) & (len(r_e[e])>0):\n",
    "                proceed = True\n",
    "                break\n",
    "        if(proceed):\n",
    "            t = r_e[e].pop(0)\n",
    "            if len(r_e[e]) == 0: m_employees[e] = ''\n",
    "            match_rankings = [r_t[t].index(x) for x in m_tickets[t]]\n",
    "            if e not in r_t[t]:\n",
    "                continue\n",
    "            elif (len(m_tickets[t]) <= len(r_t[t])):\n",
    "                m_tickets[t].append(e)\n",
    "                m_employees[e] = t\n",
    "            elif np.max(match_rankings) > r_t[t].index(e):\n",
    "                old_e = m_tickets[t][np.argmax(match_rankings)]\n",
    "                m_tickets[t][np.argmax(match_rankings)] = e\n",
    "                if len(r_e[old_e] > 0): m_employees[old_e] = None\n",
    "                else: m_employees[e] = ''\n",
    "                    \n",
    "    m_score = {}\n",
    "    for e in m_employees:\n",
    "        if(m_employees[e] == ''):\n",
    "            m_score[e] = len(r_employees[e])\n",
    "        else:\n",
    "            m_score[e] = r_employees[e].index(m_employees[e])\n",
    "    \n",
    "    return m_employees, m_tickets, m_score"
   ]
  },
  {
   "cell_type": "code",
   "execution_count": 39,
   "metadata": {},
   "outputs": [],
   "source": [
    "# Generate test data\n",
    "\n",
    "from random import sample, shuffle\n",
    "\n",
    "def fake_data(n_tickets, n_employees, n_preferences):\n",
    "    \n",
    "    if n_preferences > n_tickets: n_preferences = n_tickets\n",
    "\n",
    "    def random_combination(iterable, r):\n",
    "        pool = tuple(iterable)\n",
    "        n = len(pool)\n",
    "        indices = sorted(sample(range(n), r))\n",
    "        return list(pool[i] for i in indices)\n",
    "\n",
    "    tickets = [\"t\"+str(x) for x in range(1,n_tickets+1)]\n",
    "    employees = [\"e\"+str(x) for x in range(1,n_employees+1)]\n",
    "\n",
    "    r_employees = {}\n",
    "    for e in employees:\n",
    "        r_employees[e] = random_combination(tickets, n_preferences)\n",
    "\n",
    "    r_tickets = {}\n",
    "    for t in tickets:\n",
    "        shuffle(employees)\n",
    "        r_tickets[t] = employees\n",
    "\n",
    "    for i, t in enumerate(r_tickets):\n",
    "        r_tickets[t] = r_tickets[t][0:(i+1)*20]\n",
    "        \n",
    "    return r_employees, r_tickets"
   ]
  },
  {
   "cell_type": "code",
   "execution_count": 40,
   "metadata": {},
   "outputs": [],
   "source": [
    "# Conduct matching and calculate matching score\n",
    "n_tickets = 8\n",
    "n_employees = 200\n",
    "n_preferences = 3\n",
    "\n",
    "r_employees, r_tickets = fake_data(n_tickets, n_employees, n_preferences)\n",
    "m_employees, m_tickets, m_score = gale_shapely(r_employees, r_tickets)"
   ]
  },
  {
   "cell_type": "code",
   "execution_count": null,
   "metadata": {},
   "outputs": [],
   "source": []
  },
  {
   "cell_type": "code",
   "execution_count": null,
   "metadata": {},
   "outputs": [],
   "source": []
  },
  {
   "cell_type": "code",
   "execution_count": null,
   "metadata": {},
   "outputs": [],
   "source": []
  },
  {
   "cell_type": "code",
   "execution_count": null,
   "metadata": {},
   "outputs": [],
   "source": []
  }
 ],
 "metadata": {
  "kernelspec": {
   "display_name": "Python 3",
   "language": "python",
   "name": "python3"
  },
  "language_info": {
   "codemirror_mode": {
    "name": "ipython",
    "version": 3
   },
   "file_extension": ".py",
   "mimetype": "text/x-python",
   "name": "python",
   "nbconvert_exporter": "python",
   "pygments_lexer": "ipython3",
   "version": "3.6.2"
  }
 },
 "nbformat": 4,
 "nbformat_minor": 2
}
