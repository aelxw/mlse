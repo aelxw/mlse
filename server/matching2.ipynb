{
 "cells": [
  {
   "cell_type": "code",
   "execution_count": 210,
   "metadata": {},
   "outputs": [],
   "source": [
    "# Generate test data\n",
    "\n",
    "from random import sample, shuffle\n",
    "\n",
    "def employee_prefs(n_employees, n_preferences, tickets):\n",
    "\n",
    "    def random_combination(iterable, r):\n",
    "        pool = tuple(iterable)\n",
    "        n = len(pool)\n",
    "        indices = sorted(sample(range(n), r))\n",
    "        shuffle(indices)\n",
    "        return list(pool[i] for i in indices)\n",
    "\n",
    "    employees = [\"e\"+str(x) for x in range(1,n_employees+1)]\n",
    "\n",
    "    r_employees = {}\n",
    "    for e in employees:\n",
    "        r_employees[e] = random_combination(tickets, n_preferences)\n",
    "    \n",
    "    return r_employees"
   ]
  },
  {
   "cell_type": "code",
   "execution_count": 211,
   "metadata": {},
   "outputs": [],
   "source": [
    "# Generate ticket preferences\n",
    "\n",
    "import pandas as pd\n",
    "from random import shuffle\n",
    "\n",
    "def ticket_prefs(r_employees, tickets):\n",
    "    r = pd.DataFrame.from_dict(r_employees, orient=\"index\")\n",
    "    t_prefs = {}\n",
    "    for t in tickets:\n",
    "        r_t = []\n",
    "        for col in r.columns:\n",
    "            temp = r.loc[r.loc[:, col] == t].index.tolist()\n",
    "            shuffle(temp)\n",
    "            r_t.extend(temp)\n",
    "        t_prefs[t] = r_t\n",
    "    return t_prefs\n",
    "    \n",
    "r_tickets = ticket_prefs(r_employees, tickets)"
   ]
  },
  {
   "cell_type": "code",
   "execution_count": 212,
   "metadata": {},
   "outputs": [],
   "source": [
    "# Gale Shapley\n",
    "\n",
    "import numpy as np\n",
    "from copy import deepcopy\n",
    "from random import shuffle\n",
    "\n",
    "def gale_shapely(r_employees, r_tickets, ticket_capacity):\n",
    "    \n",
    "    r_e = deepcopy(r_employees)\n",
    "    r_t = deepcopy(r_tickets)\n",
    "    \n",
    "    m_employees = {}\n",
    "    for e in r_employees.keys():\n",
    "        m_employees[e] = []\n",
    "    \n",
    "    m_tickets = {}\n",
    "    for t in r_tickets.keys():\n",
    "        m_tickets[t] = []\n",
    "        \n",
    "    def unproposed(r_e, m_employees):\n",
    "        for e in r_e:\n",
    "            if (len(m_employees[e]) == 0) & (len(r_e[e]) > 0):\n",
    "                return e\n",
    "        return None\n",
    "    \n",
    "    while True:\n",
    "        e = unproposed(r_e, m_employees)\n",
    "        if e is None:\n",
    "            break\n",
    "        t = r_e[e].pop(0)\n",
    "        match_rankings = [r_t[t].index(x) for x in m_tickets[t]]\n",
    "        if (len(m_tickets[t]) < ticket_capacity):\n",
    "            m_tickets[t].append(e)\n",
    "            m_employees[e] = [t]\n",
    "        elif np.max(match_rankings) > r_t[t].index(e):\n",
    "            old_e = m_tickets[t][np.argmax(match_rankings)]\n",
    "            m_tickets[t][np.argmax(match_rankings)] = e\n",
    "            m_employees[e] = [t]\n",
    "            m_employees[old_e] = []\n",
    "    \n",
    "    return m_employees, m_tickets"
   ]
  },
  {
   "cell_type": "code",
   "execution_count": 213,
   "metadata": {},
   "outputs": [],
   "source": [
    "n_tickets = 8\n",
    "tickets = [\"t\"+str(x) for x in range(1,n_tickets+1)]\n",
    "ticket_capacity = 17\n",
    "\n",
    "n_employees = 136\n",
    "n_preferences = 3\n",
    "\n",
    "r_employees = employee_prefs(n_employees, n_preferences, tickets)"
   ]
  },
  {
   "cell_type": "code",
   "execution_count": 214,
   "metadata": {},
   "outputs": [],
   "source": [
    "r_tickets = ticket_prefs(r_employees, tickets)\n",
    "m_employees_gs, m_tickets_gs = gale_shapely(r_employees, r_tickets, ticket_capacity)"
   ]
  },
  {
   "cell_type": "code",
   "execution_count": 221,
   "metadata": {},
   "outputs": [
    {
     "name": "stdout",
     "output_type": "stream",
     "text": [
      "t1: 17\n",
      "t2: 17\n",
      "t3: 17\n",
      "t4: 17\n",
      "t5: 15\n",
      "t6: 17\n",
      "t7: 17\n",
      "t8: 14\n"
     ]
    }
   ],
   "source": [
    "# See how many employees were matched with given game\n",
    "for t in m_tickets_gs:\n",
    "    print(t + \": \" + str(len(m_tickets_gs[t])))\n",
    "\n",
    "# Check to see if any employees got matched with tickets they didn't want\n",
    "for e in m_employees_gs:\n",
    "    for t in m_employees_gs[e]:\n",
    "        if t not in r_employees[e]: print(e)"
   ]
  },
  {
   "cell_type": "code",
   "execution_count": null,
   "metadata": {},
   "outputs": [],
   "source": []
  },
  {
   "cell_type": "code",
   "execution_count": 3,
   "metadata": {},
   "outputs": [],
   "source": [
    "# Integer programming\n",
    "\n",
    "import cvxpy as cvx\n",
    "import pandas as pd\n",
    "import numpy as np\n",
    "from warnings import filterwarnings\n",
    "filterwarnings(\"ignore\")\n",
    "\n",
    "def ip(r_employees, ticket_capacity=None, verbose=False):\n",
    "    \n",
    "    r = pd.DataFrame(r_employees).T\n",
    "    r = r.assign(x=\"x\")\n",
    "    r.columns = range(1, r.shape[1]+1)\n",
    "    tickets = sorted(r.unstack().unique().tolist())\n",
    "\n",
    "    n_employees = len(r_employees)\n",
    "    n_t = r.shape[1]\n",
    "    \n",
    "    if ticket_capacity is None:\n",
    "        ticket_capacity = n_employees\n",
    "\n",
    "    # Variables\n",
    "\n",
    "    x = cvx.Variable((r.size,1), boolean=True)\n",
    "\n",
    "    # Constraints\n",
    "\n",
    "    # Each employee gets >= 1 ticket\n",
    "    A1 = -np.kron(np.eye(n_employees), np.ones(n_t))\n",
    "    b1 = -np.ones((A1.shape[0],1))\n",
    "\n",
    "    # <= ticket capacity\n",
    "    rows = []\n",
    "    for t in tickets[:-1]:\n",
    "        temp = r.apply(lambda x: x.map({t:1})).fillna(0).values.reshape(1,-1)\n",
    "        rows.append(temp)\n",
    "    A2 = np.vstack(rows)\n",
    "    b2 = np.ones((A2.shape[0],1))*ticket_capacity\n",
    "\n",
    "    # Variables >= 0\n",
    "    A3 = -np.eye(n_employees * n_t)\n",
    "    b3 = np.zeros((A3.shape[0], 1))\n",
    "\n",
    "    A = np.vstack((A1, A2, A3))\n",
    "    b = np.vstack((b1, b2, b3))\n",
    "\n",
    "    constraints = [A*x <= b]\n",
    "\n",
    "    # Objective function\n",
    "    \n",
    "    c = np.tile(np.array(range(1, r.shape[1]+1)), r.shape[0])\n",
    "    obj = cvx.Minimize(c * x)\n",
    "\n",
    "    # Solve\n",
    "\n",
    "    problem = cvx.Problem(obj, constraints)\n",
    "    problem.solve(solver=cvx.ECOS_BB, max_iters=100, mi_max_iters=5000, verbose=verbose)\n",
    "\n",
    "    if problem.status == 'optimal':\n",
    "        x_star = x.value.reshape(-1,n_t)\n",
    "        r_m = r.where(x_star.round() == 1)\n",
    "        m_employees = {}\n",
    "        for e in r_m.index:\n",
    "            m_employees[e] = r_m.loc[e].dropna().tolist()\n",
    "\n",
    "        return m_employees, r_m, problem\n",
    "    else:\n",
    "        print(problem.status)\n",
    "        return {}, None, problem"
   ]
  },
  {
   "cell_type": "code",
   "execution_count": null,
   "metadata": {},
   "outputs": [],
   "source": [
    "m_employees_ip, r_m, p = ip(r_employees, ticket_capacity, True)"
   ]
  },
  {
   "cell_type": "code",
   "execution_count": null,
   "metadata": {},
   "outputs": [],
   "source": [
    "for e in m_employees_ip:\n",
    "    if m_employees_ip[e][0] != r_employees[e][0]:\n",
    "        print(e)"
   ]
  }
 ],
 "metadata": {
  "kernelspec": {
   "display_name": "Python 3",
   "language": "python",
   "name": "python3"
  },
  "language_info": {
   "codemirror_mode": {
    "name": "ipython",
    "version": 3
   },
   "file_extension": ".py",
   "mimetype": "text/x-python",
   "name": "python",
   "nbconvert_exporter": "python",
   "pygments_lexer": "ipython3",
   "version": "3.6.2"
  }
 },
 "nbformat": 4,
 "nbformat_minor": 2
}
